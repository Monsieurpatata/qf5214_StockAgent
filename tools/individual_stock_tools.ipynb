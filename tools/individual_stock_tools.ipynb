{
 "cells": [
  {
   "cell_type": "code",
   "execution_count": 15,
   "metadata": {},
   "outputs": [
    {
     "name": "stdout",
     "output_type": "stream",
     "text": [
      "           日期    股票代码       开盘       收盘       最高       最低    成交量  \\\n",
      "0  2024-01-02  600519  1660.24  1630.25  1663.43  1623.34  32156   \n",
      "1  2024-01-03  600519  1626.35  1639.24  1640.46  1621.57  20229   \n",
      "2  2024-01-04  600519  1638.24  1614.24  1638.24  1608.17  21551   \n",
      "3  2024-01-05  600519  1606.57  1608.60  1623.90  1597.35  20243   \n",
      "4  2024-01-08  600519  1606.24  1589.23  1607.24  1585.25  25586   \n",
      "\n",
      "            成交额    振幅   涨跌幅    涨跌额   换手率  \n",
      "0  5.440083e+09  2.40 -2.45 -40.99  0.26  \n",
      "1  3.411401e+09  1.16  0.55   8.99  0.16  \n",
      "2  3.603970e+09  1.83 -1.53 -25.00  0.17  \n",
      "3  3.373156e+09  1.64 -0.35  -5.64  0.16  \n",
      "4  4.211919e+09  1.37 -1.20 -19.37  0.20  \n"
     ]
    }
   ],
   "source": [
    "import akshare as ak\n",
    "import pandas as pd\n",
    "from pydantic import BaseModel, Field\n",
    "from langchain_core.tools import tool\n",
    "\n",
    "class StockTradeInput(BaseModel):\n",
    "    \"\"\"个股交易数据输入参数\"\"\"\n",
    "    symbol: str = Field(description=\"股票代码\")\n",
    "    start_date: str = Field(description=\"开始日期，格式YYYYMMDD\")\n",
    "    end_date: str = Field(description=\"结束日期，格式YYYYMMDD\")\n",
    "\n",
    "@tool(args_schema=StockTradeInput)\n",
    "def get_stock_trade_data(symbol: str, start_date: str, end_date: str) -> pd.DataFrame:\n",
    "    \"\"\"\n",
    "    获取个股交易数据表，包含日期、股票代码、开盘、收盘、最高、最低、成交量、成交额、振幅、涨跌幅、涨跌额、换手率等字段\n",
    "\n",
    "    Args:\n",
    "        symbol: 股票代码\n",
    "        start_date: 开始日期，格式YYYYMMDD\n",
    "        end_date: 结束日期，格式YYYYMMDD\n",
    "\n",
    "    Returns:\n",
    "        包含个股交易数据的DataFrame\n",
    "    \"\"\"\n",
    "    # 使用AkShare接口获取历史行情数据，此处选择前复权数据（adjust=\"qfq\"）\n",
    "    df = ak.stock_zh_a_hist(symbol=symbol, start_date=start_date, end_date=end_date, adjust=\"qfq\")\n",
    "    \n",
    "    # 添加股票代码列（若返回数据中不含该字段）\n",
    "    df[\"股票代码\"] = symbol\n",
    "\n",
    "    # 调整列顺序，确保包含所需的字段\n",
    "    desired_columns = [\n",
    "        \"日期\", \"股票代码\", \"开盘\", \"收盘\", \"最高\", \"最低\",\n",
    "        \"成交量\", \"成交额\", \"振幅\", \"涨跌幅\", \"涨跌额\", \"换手率\"\n",
    "    ]\n",
    "    df = df[desired_columns]\n",
    "    \n",
    "    return df\n",
    "\n",
    "# 示例调用，注意使用 .run() 方法传入单一参数（字典或 JSON 字符串）\n",
    "if __name__ == \"__main__\":\n",
    "    input_params = {\n",
    "        \"symbol\": \"600519\",\n",
    "        \"start_date\": \"20240101\",\n",
    "        \"end_date\": \"20250204\"\n",
    "    }\n",
    "    trade_data = get_stock_trade_data.run(input_params)\n",
    "    print(trade_data.head())\n"
   ]
  },
  {
   "cell_type": "code",
   "execution_count": null,
   "metadata": {},
   "outputs": [],
   "source": []
  },
  {
   "cell_type": "code",
   "execution_count": null,
   "metadata": {},
   "outputs": [],
   "source": []
  }
 ],
 "metadata": {
  "kernelspec": {
   "display_name": "base",
   "language": "python",
   "name": "python3"
  },
  "language_info": {
   "codemirror_mode": {
    "name": "ipython",
    "version": 3
   },
   "file_extension": ".py",
   "mimetype": "text/x-python",
   "name": "python",
   "nbconvert_exporter": "python",
   "pygments_lexer": "ipython3",
   "version": "3.12.7"
  }
 },
 "nbformat": 4,
 "nbformat_minor": 2
}
